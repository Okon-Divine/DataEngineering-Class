{
 "cells": [
  {
   "cell_type": "code",
   "execution_count": 2,
   "id": "f524e30b",
   "metadata": {},
   "outputs": [
    {
     "name": "stdout",
     "output_type": "stream",
     "text": [
      "james : 5\n",
      "kate : 4\n",
      "obi : 3\n"
     ]
    }
   ],
   "source": [
    "x = [\"james\", \"kate\", \"obi\"]\n",
    "for i in range(0, len(x)):\n",
    "    count_x = len(x[i])\n",
    "    print(f\"{x[i]} : {count_x}\")"
   ]
  },
  {
   "cell_type": "code",
   "execution_count": 3,
   "id": "2c1cbcdf",
   "metadata": {},
   "outputs": [
    {
     "name": "stdout",
     "output_type": "stream",
     "text": [
      "pipeline_etl.ipynb pipeline_etl.py    \u001b[31mscript.py\u001b[m\u001b[m\r\n"
     ]
    }
   ],
   "source": [
    "!ls"
   ]
  },
  {
   "cell_type": "code",
   "execution_count": 4,
   "id": "3540f705",
   "metadata": {},
   "outputs": [
    {
     "name": "stdout",
     "output_type": "stream",
     "text": [
      "On branch main\r\n",
      "Your branch is ahead of 'origin/main' by 4 commits.\r\n",
      "  (use \"git push\" to publish your local commits)\r\n",
      "\r\n",
      "Untracked files:\r\n",
      "  (use \"git add <file>...\" to include in what will be committed)\r\n",
      "\t\u001b[31m../access_token.txt\u001b[m\r\n",
      "\t\u001b[31m../script.sh\u001b[m\r\n",
      "\r\n",
      "nothing added to commit but untracked files present (use \"git add\" to track)\r\n"
     ]
    }
   ],
   "source": [
    "!git status"
   ]
  },
  {
   "cell_type": "code",
   "execution_count": 7,
   "id": "1fd550c9",
   "metadata": {},
   "outputs": [
    {
     "name": "stdout",
     "output_type": "stream",
     "text": [
      "doc.txt            pipeline_etl.ipynb pipeline_etl.py    \u001b[31mscript.py\u001b[m\u001b[m\r\n"
     ]
    }
   ],
   "source": [
    "!ls"
   ]
  },
  {
   "cell_type": "code",
   "execution_count": 8,
   "id": "704b7b5e",
   "metadata": {},
   "outputs": [],
   "source": [
    "!git add doc.txt"
   ]
  },
  {
   "cell_type": "code",
   "execution_count": 9,
   "id": "fb8536af",
   "metadata": {},
   "outputs": [
    {
     "name": "stdout",
     "output_type": "stream",
     "text": [
      "On branch main\r\n",
      "Your branch is ahead of 'origin/main' by 4 commits.\r\n",
      "  (use \"git push\" to publish your local commits)\r\n",
      "\r\n",
      "Changes to be committed:\r\n",
      "  (use \"git restore --staged <file>...\" to unstage)\r\n",
      "\t\u001b[32mnew file:   doc.txt\u001b[m\r\n",
      "\r\n",
      "Changes not staged for commit:\r\n",
      "  (use \"git add <file>...\" to update what will be committed)\r\n",
      "  (use \"git restore <file>...\" to discard changes in working directory)\r\n",
      "\t\u001b[31mmodified:   pipeline_etl.ipynb\u001b[m\r\n",
      "\r\n",
      "Untracked files:\r\n",
      "  (use \"git add <file>...\" to include in what will be committed)\r\n",
      "\t\u001b[31m../Text_document.txt\u001b[m\r\n",
      "\t\u001b[31m../access_token.txt\u001b[m\r\n",
      "\t\u001b[31m../script.sh\u001b[m\r\n",
      "\r\n"
     ]
    }
   ],
   "source": [
    "!git status"
   ]
  },
  {
   "cell_type": "code",
   "execution_count": 10,
   "id": "1cc750fe",
   "metadata": {},
   "outputs": [
    {
     "name": "stdout",
     "output_type": "stream",
     "text": [
      "[main 257b616] hello i added a text document\r\n",
      " 1 file changed, 0 insertions(+), 0 deletions(-)\r\n",
      " create mode 100644 python_DataEng/doc.txt\r\n"
     ]
    }
   ],
   "source": [
    "!git commit -m \"hello i added a text document\""
   ]
  },
  {
   "cell_type": "code",
   "execution_count": 11,
   "id": "528816b7",
   "metadata": {},
   "outputs": [],
   "source": [
    "!git remote add push_me https://github.com/Okon-Divine/DataEngineering-Class.git"
   ]
  },
  {
   "cell_type": "code",
   "execution_count": 12,
   "id": "d924323b",
   "metadata": {},
   "outputs": [
    {
     "name": "stdout",
     "output_type": "stream",
     "text": [
      "Enumerating objects: 6, done.\n",
      "Counting objects: 100% (6/6), done.\n",
      "Delta compression using up to 4 threads\n",
      "Compressing objects: 100% (3/3), done.\n",
      "Writing objects: 100% (4/4), 341 bytes | 341.00 KiB/s, done.\n",
      "Total 4 (delta 2), reused 0 (delta 0), pack-reused 0\n",
      "remote: Resolving deltas: 100% (2/2), completed with 2 local objects.\u001b[K\n",
      "To https://github.com/Okon-Divine/DataEngineering-Class.git\n",
      "   1ed8db7..257b616  main -> main\n"
     ]
    }
   ],
   "source": [
    "!git push push_me"
   ]
  },
  {
   "cell_type": "code",
   "execution_count": null,
   "id": "26deeafc",
   "metadata": {},
   "outputs": [],
   "source": []
  }
 ],
 "metadata": {
  "kernelspec": {
   "display_name": "Python 3 (ipykernel)",
   "language": "python",
   "name": "python3"
  },
  "language_info": {
   "codemirror_mode": {
    "name": "ipython",
    "version": 3
   },
   "file_extension": ".py",
   "mimetype": "text/x-python",
   "name": "python",
   "nbconvert_exporter": "python",
   "pygments_lexer": "ipython3",
   "version": "3.9.7"
  }
 },
 "nbformat": 4,
 "nbformat_minor": 5
}
