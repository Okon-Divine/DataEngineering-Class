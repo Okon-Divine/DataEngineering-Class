{
 "cells": [
  {
   "cell_type": "code",
   "execution_count": 2,
   "id": "f7f3c4f7",
   "metadata": {},
   "outputs": [
    {
     "name": "stdout",
     "output_type": "stream",
     "text": [
      "james : 5\n",
      "kate : 4\n",
      "obi : 3\n"
     ]
    }
   ],
   "source": [
    "x = [\"james\", \"kate\", \"obi\"]\n",
    "for i in range(0, len(x)):\n",
    "    count_x = len(x[i])\n",
    "    print(f\"{x[i]} : {count_x}\")"
   ]
  },
  {
   "cell_type": "code",
   "execution_count": null,
   "id": "ac53bed1",
   "metadata": {},
   "outputs": [],
   "source": []
  }
 ],
 "metadata": {
  "kernelspec": {
   "display_name": "Python 3 (ipykernel)",
   "language": "python",
   "name": "python3"
  },
  "language_info": {
   "codemirror_mode": {
    "name": "ipython",
    "version": 3
   },
   "file_extension": ".py",
   "mimetype": "text/x-python",
   "name": "python",
   "nbconvert_exporter": "python",
   "pygments_lexer": "ipython3",
   "version": "3.9.7"
  }
 },
 "nbformat": 4,
 "nbformat_minor": 5
}
