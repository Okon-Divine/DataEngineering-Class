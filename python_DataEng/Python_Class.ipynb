{
 "cells": [
  {
   "cell_type": "markdown",
   "id": "9da6160f",
   "metadata": {},
   "source": [
    "1. phase one (Master automation process)\n",
    "data types\n",
    "variables\n",
    "conditionals\n",
    "strings and list methods\n",
    "indexing and slicing\n",
    "forloops and while loops\n",
    "dictionaries\n",
    "file handling\n",
    "functions\n",
    "classes and objects\n",
    "\n",
    "2. Phase two\n",
    "Python importation methods bonus: programming Habits\n",
    "python libraries (Datetime, pandas, numpy)\n",
    "webscrapping and ETL handling with python\n",
    "Api consumption (twitter api, reddit api, binance api, yahoo finance)\n",
    "\n",
    "\n",
    "\n",
    "3. phase three (Pipieline development)\n",
    "Data base integration with python (Postgresql, MongoDB)\n",
    "python Flask\n",
    "Api development (Fast api)\n",
    "Data Visualization (Tableau, looker or Power Bi)"
   ]
  },
  {
   "cell_type": "markdown",
   "id": "94e1927f",
   "metadata": {},
   "source": [
    "-- leet_code\n",
    "-- Hacker rank\n",
    "-- coder byte"
   ]
  },
  {
   "cell_type": "markdown",
   "id": "eae8b861",
   "metadata": {},
   "source": [
    "#### Day One"
   ]
  },
  {
   "cell_type": "code",
   "execution_count": 11,
   "id": "86f9a3c1",
   "metadata": {},
   "outputs": [
    {
     "name": "stdout",
     "output_type": "stream",
     "text": [
      "true\n"
     ]
    }
   ],
   "source": [
    "#strings, integers, floats, booleans\n",
    "print(\"true\")"
   ]
  },
  {
   "cell_type": "code",
   "execution_count": 15,
   "id": "d481bfa2",
   "metadata": {},
   "outputs": [
    {
     "name": "stdout",
     "output_type": "stream",
     "text": [
      "<class 'str'>\n"
     ]
    }
   ],
   "source": [
    "print(type(\"20\"))"
   ]
  },
  {
   "cell_type": "code",
   "execution_count": 16,
   "id": "edfdf49d",
   "metadata": {},
   "outputs": [
    {
     "name": "stdout",
     "output_type": "stream",
     "text": [
      "25\n"
     ]
    }
   ],
   "source": [
    "print(20+5)"
   ]
  },
  {
   "cell_type": "code",
   "execution_count": 23,
   "id": "451da7a9",
   "metadata": {},
   "outputs": [
    {
     "name": "stdout",
     "output_type": "stream",
     "text": [
      "25.5\n"
     ]
    }
   ],
   "source": [
    "a = 20.5\n",
    "b = \"5\"\n",
    "print(a+float(b))"
   ]
  },
  {
   "cell_type": "code",
   "execution_count": 33,
   "id": "b930f0f6",
   "metadata": {},
   "outputs": [
    {
     "name": "stdout",
     "output_type": "stream",
     "text": [
      "enter your name: temi\n",
      "your name is temi\n"
     ]
    }
   ],
   "source": [
    "x = input(\"enter your name: \")\n",
    "print(f\"your name is {x}\")"
   ]
  },
  {
   "cell_type": "code",
   "execution_count": 30,
   "id": "797978b7",
   "metadata": {},
   "outputs": [
    {
     "name": "stdout",
     "output_type": "stream",
     "text": [
      "eneter name: ruke\n",
      "eneter year of birth: 1997\n",
      "ruke, was born in year 1997.0, and is currently 26.0 years old\n"
     ]
    }
   ],
   "source": [
    "name = input(\"eneter name: \")\n",
    "birth_year = float(input(\"eneter year of birth: \"))\n",
    "print(f\"{name}, was born in year {birth_year}, and is currently {2023-birth_year} years old\")"
   ]
  },
  {
   "cell_type": "code",
   "execution_count": null,
   "id": "e14546f0",
   "metadata": {},
   "outputs": [],
   "source": [
    "###formular\n",
    "# F = c(9/5) + 32\n",
    "# c = f(5/9) - 32"
   ]
  },
  {
   "cell_type": "code",
   "execution_count": 43,
   "id": "3c503e57",
   "metadata": {},
   "outputs": [
    {
     "name": "stdout",
     "output_type": "stream",
     "text": [
      "enter temperatur value: 48.89\n",
      "enter unit (f/c): c\n",
      "120.002 degree fahrenheit\n"
     ]
    }
   ],
   "source": [
    "temp = float(input(\"enter temperatur value: \"))\n",
    "unit = input(\"enter unit (f/c): \").lower()\n",
    "\n",
    "if unit == \"f\":\n",
    "    celcuis_val = (5/9) * (temp - 32)\n",
    "    print(f\"{round(celcuis_val, 2)} degree celcuis\")\n",
    "    \n",
    "elif unit == \"c\":\n",
    "    fahr = (9/5*temp) + 32\n",
    "    print(f\"{round(fahr, 3)} degree fahrenheit\")\n",
    "    \n",
    "else:\n",
    "    print(\"unknown inputs\")"
   ]
  },
  {
   "cell_type": "code",
   "execution_count": 46,
   "id": "eab53faf",
   "metadata": {},
   "outputs": [],
   "source": [
    "##lower(), upper() ==> strings methods"
   ]
  },
  {
   "cell_type": "code",
   "execution_count": 64,
   "id": "d60621c9",
   "metadata": {},
   "outputs": [
    {
     "name": "stdout",
     "output_type": "stream",
     "text": [
      "apple\n",
      "ppl\n"
     ]
    }
   ],
   "source": [
    "##slicing and indexing for strings\n",
    "b = \"apple\"\n",
    "print(b)\n",
    "print(b[1:4])"
   ]
  },
  {
   "cell_type": "code",
   "execution_count": 62,
   "id": "4a397eaa",
   "metadata": {},
   "outputs": [
    {
     "data": {
      "text/plain": [
       "5"
      ]
     },
     "execution_count": 62,
     "metadata": {},
     "output_type": "execute_result"
    }
   ],
   "source": [
    "#count method for strings\n",
    "len(b)"
   ]
  },
  {
   "cell_type": "code",
   "execution_count": 56,
   "id": "179e54cf",
   "metadata": {},
   "outputs": [
    {
     "name": "stdout",
     "output_type": "stream",
     "text": [
      "the index is 2, and the value is t\n"
     ]
    }
   ],
   "source": [
    "a = \"lothar\"\n",
    "index_val = a.index(\"t\")\n",
    "value_name = a[index_val]\n",
    "print(f\"the index is {index_val}, and the value is {value_name}\")"
   ]
  },
  {
   "cell_type": "code",
   "execution_count": 57,
   "id": "d6ffcec0",
   "metadata": {},
   "outputs": [
    {
     "data": {
      "text/plain": [
       "'t'"
      ]
     },
     "execution_count": 57,
     "metadata": {},
     "output_type": "execute_result"
    }
   ],
   "source": [
    "a[2]"
   ]
  },
  {
   "cell_type": "code",
   "execution_count": 65,
   "id": "9e8dbf56",
   "metadata": {},
   "outputs": [
    {
     "name": "stdout",
     "output_type": "stream",
     "text": [
      "apple\n"
     ]
    }
   ],
   "source": [
    "print(b)"
   ]
  },
  {
   "cell_type": "code",
   "execution_count": 69,
   "id": "de27b61a",
   "metadata": {},
   "outputs": [
    {
     "name": "stdout",
     "output_type": "stream",
     "text": [
      "apple\n"
     ]
    }
   ],
   "source": [
    "print(b)"
   ]
  },
  {
   "cell_type": "code",
   "execution_count": 91,
   "id": "03642b9b",
   "metadata": {},
   "outputs": [],
   "source": [
    "# k = (a, b , c, d)\n",
    "# summation k"
   ]
  },
  {
   "cell_type": "code",
   "execution_count": 86,
   "id": "c2a66f85",
   "metadata": {},
   "outputs": [
    {
     "name": "stdout",
     "output_type": "stream",
     "text": [
      "1\n",
      "1\n",
      "1\n"
     ]
    }
   ],
   "source": [
    "b = \"applepy\"\n",
    "for i in b:\n",
    "    if i == \"p\":\n",
    "        print(b.index(i))"
   ]
  },
  {
   "cell_type": "code",
   "execution_count": 92,
   "id": "43d2ea59",
   "metadata": {},
   "outputs": [
    {
     "name": "stdout",
     "output_type": "stream",
     "text": [
      "(0, 'a')\n",
      "(1, 'p')\n",
      "(2, 'p')\n",
      "(3, 'l')\n",
      "(4, 'e')\n",
      "(5, 'p')\n",
      "(6, 'y')\n"
     ]
    }
   ],
   "source": [
    "for i in enumerate(b):\n",
    "    print(i)"
   ]
  },
  {
   "cell_type": "code",
   "execution_count": 82,
   "id": "2873ce89",
   "metadata": {},
   "outputs": [
    {
     "name": "stdout",
     "output_type": "stream",
     "text": [
      "[4]\n"
     ]
    }
   ],
   "source": [
    "b = \"applepy\"\n",
    "list_arr = []\n",
    "for i in enumerate(b):\n",
    "    if i[1] == \"e\":\n",
    "        list_arr.append(i[0])\n",
    "print(list_arr)"
   ]
  },
  {
   "cell_type": "code",
   "execution_count": 90,
   "id": "aa880d58",
   "metadata": {},
   "outputs": [
    {
     "name": "stdout",
     "output_type": "stream",
     "text": [
      "enter name: chidinma\n",
      "enter sex: f\n",
      "enter year of birth: 2001\n",
      "chidinma, was born in year 2001.0, and she is currently 22.0 years old\n"
     ]
    }
   ],
   "source": [
    "name = input(\"enter name: \")\n",
    "sex = input(\"enter sex: \").lower()\n",
    "birth_year = float(input(\"enter year of birth: \"))\n",
    "if sex == \"m\":\n",
    "    print(f\"{name}, was born in year {birth_year}, and he is currently {2023-birth_year} years old\")\n",
    "elif sex == \"f\":\n",
    "    print(f\"{name}, was born in year {birth_year}, and she is currently {2023-birth_year} years old\")\n",
    "else:\n",
    "    print(\"unknown input\")"
   ]
  },
  {
   "cell_type": "code",
   "execution_count": 103,
   "id": "dc9a0908",
   "metadata": {},
   "outputs": [
    {
     "name": "stdout",
     "output_type": "stream",
     "text": [
      "daisy\n"
     ]
    }
   ],
   "source": [
    "k = \"daisy\"\n",
    "print(k)"
   ]
  },
  {
   "cell_type": "code",
   "execution_count": 104,
   "id": "8e4fff38",
   "metadata": {},
   "outputs": [
    {
     "name": "stdout",
     "output_type": "stream",
     "text": [
      "d-a-i-s-y\n"
     ]
    }
   ],
   "source": [
    "l = \"-\".join(k)\n",
    "print(l)"
   ]
  },
  {
   "cell_type": "code",
   "execution_count": 133,
   "id": "0e892d8c",
   "metadata": {},
   "outputs": [
    {
     "name": "stdout",
     "output_type": "stream",
     "text": [
      "3\n"
     ]
    }
   ],
   "source": [
    "##string method\n",
    "phone_number = \"8164587891\"\n",
    "for i in range(0, len(phone_number)):\n",
    "    if i == 3:\n",
    "        print(i)\n",
    "        break"
   ]
  },
  {
   "cell_type": "code",
   "execution_count": null,
   "id": "a0156cc6",
   "metadata": {},
   "outputs": [],
   "source": [
    "# ft - meters\n",
    "# 1ft = 3.281m\n",
    "# 2ft = 3.281*2\n",
    "# write a python program that can do"
   ]
  },
  {
   "cell_type": "code",
   "execution_count": 5,
   "id": "547ea07f",
   "metadata": {},
   "outputs": [
    {
     "name": "stdout",
     "output_type": "stream",
     "text": [
      "enter value: 347\n",
      "enter unit(ft/m): m\n",
      "347.0m is 147.645ft\n"
     ]
    }
   ],
   "source": [
    "dist = float(input('enter value: '))\n",
    "unit = input(\"enter unit(ft/m): \").lower()\n",
    "if unit == \"ft\":\n",
    "    ft_meters = dist * 3.281\n",
    "    print(f\"{dist}{unit} is {ft_meters}meters\")\n",
    "elif unit == \"m\":\n",
    "    meters_ft = dist/3.281\n",
    "    print(f\"{dist}{unit} is {ft_meters}ft\")\n",
    "else:\n",
    "    print(\"unknown inputs\")"
   ]
  },
  {
   "cell_type": "code",
   "execution_count": 7,
   "id": "9253b935",
   "metadata": {},
   "outputs": [
    {
     "name": "stdout",
     "output_type": "stream",
     "text": [
      "A\n",
      "D\n",
      "A\n",
      "O\n",
      "B\n",
      "I\n"
     ]
    }
   ],
   "source": [
    "a = \"adaobi\"\n",
    "for i in a:\n",
    "    print(i.upper())"
   ]
  },
  {
   "cell_type": "code",
   "execution_count": 11,
   "id": "a399117d",
   "metadata": {},
   "outputs": [
    {
     "data": {
      "text/plain": [
       "['adaobi']"
      ]
     },
     "execution_count": 11,
     "metadata": {},
     "output_type": "execute_result"
    }
   ],
   "source": [
    "a.split()"
   ]
  },
  {
   "cell_type": "code",
   "execution_count": 15,
   "id": "2fce5e85",
   "metadata": {},
   "outputs": [
    {
     "name": "stdout",
     "output_type": "stream",
     "text": [
      "['A', 'D', 'A', 'O', 'B', 'I']\n",
      "ADAOBI\n"
     ]
    }
   ],
   "source": [
    "b_arr = []\n",
    "for i in a:\n",
    "    b_arr.append(i.upper())\n",
    "print(b_arr)\n",
    "print(\"\".join(b_arr))"
   ]
  },
  {
   "cell_type": "code",
   "execution_count": 26,
   "id": "3afb15f6",
   "metadata": {},
   "outputs": [],
   "source": [
    "u_data = [\"obi\", \"tunde\", \"phil\"]\n",
    "y_data = [\"Tobi\", \"tunde-bose\", \"phil_mac\"]\n",
    "# u_data.append(y_data)\n",
    "# print(u_data)"
   ]
  },
  {
   "cell_type": "code",
   "execution_count": 25,
   "id": "895e5278",
   "metadata": {},
   "outputs": [
    {
     "name": "stdout",
     "output_type": "stream",
     "text": [
      "['obi', 'tunde', 'phil', 'Tobi', 'tunde-bose', 'phil_mac']\n"
     ]
    }
   ],
   "source": [
    "b_data = u_data + y_data\n",
    "print(b_data)"
   ]
  },
  {
   "cell_type": "code",
   "execution_count": 27,
   "id": "3e6001c5",
   "metadata": {},
   "outputs": [
    {
     "name": "stdout",
     "output_type": "stream",
     "text": [
      "['obi', 'tunde', 'phil', 'Tobi', 'tunde-bose', 'phil_mac']\n"
     ]
    }
   ],
   "source": [
    "for i in y_data:\n",
    "    u_data.append(i)\n",
    "print(u_data)"
   ]
  },
  {
   "cell_type": "code",
   "execution_count": 38,
   "id": "bd6c7cce",
   "metadata": {},
   "outputs": [
    {
     "data": {
      "text/plain": [
       "5"
      ]
     },
     "execution_count": 38,
     "metadata": {},
     "output_type": "execute_result"
    }
   ],
   "source": [
    "b = \"folakeobi\"\n",
    "d = [\"ola\", \"jake\", \"Tariah\", 10, True]\n",
    "len(d)"
   ]
  },
  {
   "cell_type": "code",
   "execution_count": 45,
   "id": "fb4713ce",
   "metadata": {},
   "outputs": [
    {
     "name": "stdout",
     "output_type": "stream",
     "text": [
      "ola\n",
      "jake\n",
      "Tariah\n",
      "10\n",
      "True\n"
     ]
    }
   ],
   "source": [
    "for i in range(0, len(d)):\n",
    "    print(d[i])"
   ]
  },
  {
   "cell_type": "code",
   "execution_count": 68,
   "id": "58d2a7ff",
   "metadata": {},
   "outputs": [
    {
     "name": "stdout",
     "output_type": "stream",
     "text": [
      "0\n",
      "1\n",
      "2\n",
      "3\n"
     ]
    }
   ],
   "source": [
    "a = \"tobi\"\n",
    "for i in range(0, len(a)):\n",
    "    print(i)"
   ]
  },
  {
   "cell_type": "code",
   "execution_count": 75,
   "id": "c8e6478d",
   "metadata": {},
   "outputs": [
    {
     "ename": "IndexError",
     "evalue": "list index out of range",
     "output_type": "error",
     "traceback": [
      "\u001b[0;31m---------------------------------------------------------------------------\u001b[0m",
      "\u001b[0;31mIndexError\u001b[0m                                Traceback (most recent call last)",
      "\u001b[0;32m/var/folders/kk/6xprygb52ml2mc2lwt6gjv040000gn/T/ipykernel_2641/188423164.py\u001b[0m in \u001b[0;36m<module>\u001b[0;34m\u001b[0m\n\u001b[1;32m      4\u001b[0m \u001b[0mb_arr\u001b[0m \u001b[0;34m=\u001b[0m \u001b[0;34m[\u001b[0m\u001b[0;34m]\u001b[0m\u001b[0;34m\u001b[0m\u001b[0;34m\u001b[0m\u001b[0m\n\u001b[1;32m      5\u001b[0m \u001b[0;32mfor\u001b[0m \u001b[0mi\u001b[0m \u001b[0;32min\u001b[0m \u001b[0mrange\u001b[0m\u001b[0;34m(\u001b[0m\u001b[0;36m0\u001b[0m\u001b[0;34m,\u001b[0m \u001b[0mlen\u001b[0m\u001b[0;34m(\u001b[0m\u001b[0mname\u001b[0m\u001b[0;34m)\u001b[0m\u001b[0;34m)\u001b[0m\u001b[0;34m:\u001b[0m\u001b[0;34m\u001b[0m\u001b[0;34m\u001b[0m\u001b[0m\n\u001b[0;32m----> 6\u001b[0;31m     \u001b[0ma\u001b[0m \u001b[0;34m=\u001b[0m \u001b[0;34mf\"{name[i]}, {s_name[i]}\"\u001b[0m\u001b[0;34m\u001b[0m\u001b[0;34m\u001b[0m\u001b[0m\n\u001b[0m\u001b[1;32m      7\u001b[0m     \u001b[0mb_arr\u001b[0m\u001b[0;34m.\u001b[0m\u001b[0mappend\u001b[0m\u001b[0;34m(\u001b[0m\u001b[0ma\u001b[0m\u001b[0;34m)\u001b[0m\u001b[0;34m\u001b[0m\u001b[0;34m\u001b[0m\u001b[0m\n\u001b[1;32m      8\u001b[0m \u001b[0mprint\u001b[0m\u001b[0;34m(\u001b[0m\u001b[0mb_arr\u001b[0m\u001b[0;34m)\u001b[0m\u001b[0;34m\u001b[0m\u001b[0;34m\u001b[0m\u001b[0m\n",
      "\u001b[0;31mIndexError\u001b[0m: list index out of range"
     ]
    }
   ],
   "source": [
    "name = [\"bola\", \"tolu\", \"emeka\", \"inyang\", \"yusuf\"]\n",
    "s_name = [\"ubong\", \"idara\", \"oroma\", \"nkechi\"]\n",
    "\n",
    "\n",
    "\n",
    "b_arr = []\n",
    "for i in range(0, len(name)):\n",
    "    a = f\"{name[i]}, {s_name[i]}\"\n",
    "    b_arr.append(a)\n",
    "print(b_arr)"
   ]
  },
  {
   "cell_type": "code",
   "execution_count": 78,
   "id": "d7e21bf9",
   "metadata": {},
   "outputs": [
    {
     "name": "stdout",
     "output_type": "stream",
     "text": [
      "unknown\n",
      "unknown\n"
     ]
    }
   ],
   "source": [
    "for i in range(2):\n",
    "    print(\"unknown\")"
   ]
  },
  {
   "cell_type": "code",
   "execution_count": 80,
   "id": "992abdf0",
   "metadata": {},
   "outputs": [
    {
     "name": "stdout",
     "output_type": "stream",
     "text": [
      "['ubong', 'idara', 'oroma', 'nkechi', 'unknown', 'unknown']\n"
     ]
    }
   ],
   "source": [
    "a = [\"unknown\", \"unknown\"]\n",
    "b = s_name + a\n",
    "print(b)"
   ]
  },
  {
   "cell_type": "code",
   "execution_count": 81,
   "id": "6d385cd5",
   "metadata": {},
   "outputs": [
    {
     "name": "stdout",
     "output_type": "stream",
     "text": [
      "['bola ubong', 'tolu idara', 'emeka oroma', 'inyang nkechi', 'unknown joke']\n"
     ]
    }
   ],
   "source": [
    "####Dry ---> Don't repeat yourself\n",
    "\n",
    "name = [\"bola\", \"tolu\", \"emeka\", \"inyang\"]\n",
    "s_name = [\"ubong\", \"idara\", \"oroma\", \"nkechi\", \"joke\"]\n",
    "\n",
    "#####if the arrays are equal\n",
    "if len(name) == len(s_name):\n",
    "    fullname_arr = []\n",
    "    for i in range(0, len(name)):\n",
    "        fullname = f\"{name[i]} {s_name[i]}\"\n",
    "        fullname_arr.append(fullname)\n",
    "    print(fullname_arr)\n",
    "    \n",
    "\n",
    "    \n",
    "elif len(name) != len(s_name):\n",
    "    fullname_arr = []\n",
    "    \n",
    "    if len(name) > len(s_name):\n",
    "        count_name = len(name) - len(s_name)\n",
    "        u_arr = []\n",
    "        for i in range(count_name):\n",
    "            u_arr.append(\"unknown\")\n",
    "            \n",
    "        new_arr = s_name + u_arr\n",
    "    \n",
    "        for i in range(0, len(name)):\n",
    "            fullname = f\"{name[i]} {new_arr[i]}\"\n",
    "            fullname_arr.append(fullname)\n",
    "        print(fullname_arr)\n",
    "        \n",
    "\n",
    "        \n",
    "    elif len(s_name) > len(name):\n",
    "        count_name = len(s_name) - len(name)\n",
    "        u_arr = []\n",
    "        for i in range(count_name):\n",
    "            u_arr.append(\"unknown\")\n",
    "        new_arr = name + u_arr\n",
    "        \n",
    "        for i in range(0, len(s_name)):\n",
    "            fullname = f\"{new_arr[i]} {s_name[i]}\"\n",
    "            fullname_arr.append(fullname)\n",
    "        print(fullname_arr)\n",
    "        \n",
    "else:\n",
    "    print(\"An error i cant explain occurred!!!\")\n",
    "        \n",
    "        "
   ]
  },
  {
   "cell_type": "code",
   "execution_count": 106,
   "id": "b82ead15",
   "metadata": {},
   "outputs": [
    {
     "name": "stdout",
     "output_type": "stream",
     "text": [
      "['234', '816', '458', '789', '1']\n",
      "+234-816-458-789-1\n"
     ]
    }
   ],
   "source": [
    "cell_val = \"2348164587891\"\n",
    "# k = \"-\".join(cell_val)\n",
    "# print(k)\n",
    "n = 3\n",
    "num = []\n",
    "for i in range(0, len(cell_val), n):\n",
    "    num.append(cell_val[i:i+n])\n",
    "    \n",
    "print(num)\n",
    "d = \"-\".join(num)\n",
    "print(f\"+{d}\")"
   ]
  },
  {
   "cell_type": "code",
   "execution_count": 16,
   "id": "1789de00",
   "metadata": {},
   "outputs": [
    {
     "data": {
      "text/plain": [
       "str"
      ]
     },
     "execution_count": 16,
     "metadata": {},
     "output_type": "execute_result"
    }
   ],
   "source": [
    "type(\"james\")"
   ]
  },
  {
   "cell_type": "code",
   "execution_count": 6,
   "id": "4c981142",
   "metadata": {},
   "outputs": [
    {
     "name": "stdout",
     "output_type": "stream",
     "text": [
      "[10, 21, 10]\n"
     ]
    }
   ],
   "source": [
    "arr = [\"james\", \"philemon\", True, False, 2.67, 10, 21, 10, 6.19]\n",
    "booleans = []\n",
    "flt = []\n",
    "integer = []\n",
    "for i in arr:\n",
    "    if type(i) == bool:\n",
    "        booleans.append(i)\n",
    "    elif type(i) == float:\n",
    "        flt.append(i)\n",
    "    elif type(i) == int:\n",
    "        integer.append(i)\n",
    "print(integer)"
   ]
  },
  {
   "cell_type": "code",
   "execution_count": 23,
   "id": "f7611da1",
   "metadata": {},
   "outputs": [
    {
     "name": "stdout",
     "output_type": "stream",
     "text": [
      "['james', 'philemon', True, False, 2.67, 10, 21, 10, 6.19]\n"
     ]
    }
   ],
   "source": [
    "print(arr)\n"
   ]
  },
  {
   "cell_type": "code",
   "execution_count": 28,
   "id": "f75414a5",
   "metadata": {},
   "outputs": [
    {
     "data": {
      "text/plain": [
       "bool"
      ]
     },
     "execution_count": 28,
     "metadata": {},
     "output_type": "execute_result"
    }
   ],
   "source": [
    "c = \"True\"\n",
    "type(bool(c))"
   ]
  },
  {
   "cell_type": "code",
   "execution_count": 42,
   "id": "afebe7dc",
   "metadata": {},
   "outputs": [
    {
     "data": {
      "text/plain": [
       "int"
      ]
     },
     "execution_count": 42,
     "metadata": {},
     "output_type": "execute_result"
    }
   ],
   "source": [
    "type(eval(\"10\"))"
   ]
  },
  {
   "cell_type": "code",
   "execution_count": 58,
   "id": "5e7c3b8a",
   "metadata": {},
   "outputs": [
    {
     "name": "stdout",
     "output_type": "stream",
     "text": [
      "enter values from array: james\n",
      "enetr before/after: after\n",
      "<class 'str'>\n",
      "['philemon', True, False, 2.67, 10, 21, 10, 6.19]\n"
     ]
    }
   ],
   "source": [
    "arr = ['james', 'philemon', True, False, 2.67, 10, 21, 10, 6.19]\n",
    "a = input(\"enter values from array: \")\n",
    "n = input(\"enetr before/after: \")\n",
    "\n",
    "print(type(a))\n",
    "   ####gives you the index values\n",
    "        \n",
    "if type(a) == str:\n",
    "    b = arr.index(a)\n",
    "    if n == \"after\":\n",
    "        vals = arr[b+1:]  ####gives you the answer \n",
    "        print(vals)\n",
    "    else:\n",
    "        b_vals = arr[:b]\n",
    "        print(b_vals)\n",
    "\n",
    "elif type(eval(a)) == bool:\n",
    "    b = arr.index(bool(a))\n",
    "    if n == \"after\":\n",
    "        vals = arr[b+1:]  ####gives you the answer \n",
    "        print(vals)\n",
    "    else:\n",
    "        b_vals = arr[:b]\n",
    "        print(b_vals)        \n",
    "\n",
    "elif type(eval(a)) == float:\n",
    "    b = arr.index(float(a))\n",
    "    if n == \"after\":\n",
    "        vals = arr[b+1:]  ####gives you the answer \n",
    "        print(vals)\n",
    "    else:\n",
    "        b_vals = arr[:b]\n",
    "        print(b_vals)\n",
    "        \n",
    "elif type(eval(a)) == int:\n",
    "    b = arr.index(int(a))\n",
    "    if n == \"after\":\n",
    "        vals = arr[b+1:]  ####gives you the answer \n",
    "        print(vals)\n",
    "    else:\n",
    "        b_vals = arr[:b]\n",
    "        print(b_vals)"
   ]
  },
  {
   "cell_type": "code",
   "execution_count": 76,
   "id": "94c16a7d",
   "metadata": {},
   "outputs": [
    {
     "name": "stdout",
     "output_type": "stream",
     "text": [
      "Jake, Martin\n",
      "Kate, Ben\n",
      "Leonard, Faith\n"
     ]
    }
   ],
   "source": [
    "arr1 = [\"jake\", \"kate\", \"leonard\"]\n",
    "arr2 = [\"martin\", \"ben\", \"faith\"]\n",
    "\n",
    "for i in range(0, len(arr1)):\n",
    "    arr_a = f\"{arr1[i][0].upper()}{arr1[i][1:]}, {arr2[i][0].upper()}{arr2[i][1:]}\"\n",
    "    print(arr_a)"
   ]
  },
  {
   "cell_type": "code",
   "execution_count": 84,
   "id": "cbdd4309",
   "metadata": {},
   "outputs": [
    {
     "name": "stdout",
     "output_type": "stream",
     "text": [
      "Jake Martin\n",
      "Kate Ben\n",
      "Leonard Faith\n"
     ]
    }
   ],
   "source": [
    "for i in range(0, len(arr1)):\n",
    "    print(arr1[i][0].upper() + arr1[i][1:], arr2[i][0].upper() + arr2[i][1:])"
   ]
  },
  {
   "cell_type": "code",
   "execution_count": 86,
   "id": "c9dc9519",
   "metadata": {},
   "outputs": [
    {
     "name": "stdout",
     "output_type": "stream",
     "text": [
      "1 6\n",
      "1 7\n",
      "1 1\n",
      "1 9\n",
      "5 6\n",
      "5 7\n",
      "5 1\n",
      "5 9\n",
      "10 6\n",
      "10 7\n",
      "10 1\n",
      "10 9\n"
     ]
    }
   ],
   "source": [
    "a = [1, 5, 10]\n",
    "b = [6, 7, 1, 9]\n",
    "\n",
    "for i in a:\n",
    "    for n in b:\n",
    "        print(i, n)"
   ]
  },
  {
   "cell_type": "code",
   "execution_count": null,
   "id": "266aa464",
   "metadata": {},
   "outputs": [],
   "source": [
    "Input: nums = [2,7,11,15], target = 17\n",
    "Output: [0,1]\n",
    "#Explanation: Because nums[0] + nums[1] == 9, we return [0, 1]"
   ]
  },
  {
   "cell_type": "code",
   "execution_count": 92,
   "id": "577b0d16",
   "metadata": {},
   "outputs": [
    {
     "name": "stdout",
     "output_type": "stream",
     "text": [
      "[0, 3]\n",
      "[3, 0]\n"
     ]
    }
   ],
   "source": [
    "target = 17\n",
    "nums = [2,7,11,15]\n",
    "for i in nums:\n",
    "    for n in nums:\n",
    "        a = i + n\n",
    "        if a == target:\n",
    "            print([nums.index(i), nums.index(n)])"
   ]
  },
  {
   "cell_type": "code",
   "execution_count": 95,
   "id": "3a9eadaf",
   "metadata": {},
   "outputs": [
    {
     "name": "stdout",
     "output_type": "stream",
     "text": [
      "2 2\n",
      "2 7\n",
      "2 11\n",
      "2 15\n",
      "7 2\n",
      "7 7\n",
      "7 11\n",
      "7 15\n",
      "11 2\n",
      "11 7\n",
      "11 11\n",
      "11 15\n",
      "15 2\n",
      "15 7\n",
      "15 11\n",
      "15 15\n"
     ]
    }
   ],
   "source": [
    "for i in nums:\n",
    "    for n in nums:\n",
    "        print(i, n)"
   ]
  },
  {
   "cell_type": "code",
   "execution_count": 97,
   "id": "32878dbf",
   "metadata": {},
   "outputs": [
    {
     "name": "stdout",
     "output_type": "stream",
     "text": [
      "[0, 3]\n"
     ]
    }
   ],
   "source": [
    "for i in range(0, len(nums)):\n",
    "    for n in range(i, len(nums)):\n",
    "        sum_vals = nums[i] + nums[n]\n",
    "        if sum_vals == target:\n",
    "            print([i, n])"
   ]
  },
  {
   "cell_type": "code",
   "execution_count": 101,
   "id": "0ab59218",
   "metadata": {},
   "outputs": [],
   "source": [
    "arr1 = [\"jake\", \"kate\", \"leonard\"]\n",
    "arr2 = [\"martin\", \"ben\", \"faith\"]\n",
    "\n",
    "file = open(\"new_file2.txt\", \"w\") ##### create \n",
    "for i in range(0, len(arr1)):\n",
    "    arr_a = f\"{arr1[i][0].upper()}{arr1[i][1:]}, {arr2[i][0].upper()}{arr2[i][1:]}\\n\"\n",
    "    file.write(arr_a)"
   ]
  },
  {
   "cell_type": "code",
   "execution_count": 123,
   "id": "7ec4e1c7",
   "metadata": {},
   "outputs": [
    {
     "name": "stdout",
     "output_type": "stream",
     "text": [
      "['Jake,', 'Martin', 'Kate,', 'Ben', 'Leonard,', 'Faith']\n",
      "6\n"
     ]
    }
   ],
   "source": [
    "with open(\"new_file2.txt\", \"r\") as a:\n",
    "    d = a.read().split()\n",
    "print(d)\n",
    "#arr_data = []\n",
    "\n",
    "print(len(d))\n",
    "# for i in d:\n",
    "#     print(i)"
   ]
  },
  {
   "cell_type": "code",
   "execution_count": 131,
   "id": "30aa2489",
   "metadata": {},
   "outputs": [
    {
     "name": "stdout",
     "output_type": "stream",
     "text": [
      "3\n"
     ]
    }
   ],
   "source": [
    "file = []\n",
    "for i in range(0, len(d), 2):\n",
    "    t = d[i:i+2]\n",
    "    file.append(\" \".join(t))\n",
    "    \n",
    "print(len(file))"
   ]
  },
  {
   "cell_type": "code",
   "execution_count": 138,
   "id": "6227c8bd",
   "metadata": {},
   "outputs": [
    {
     "name": "stdout",
     "output_type": "stream",
     "text": [
      "126.0\n"
     ]
    }
   ],
   "source": [
    "with open(\"sum_numbers.txt\", \"r\") as file:\n",
    "    k = file.read().split(\",\")\n",
    "\n",
    "k_sum = 0\n",
    "for i in k:\n",
    "    k_sum = float(i) + k_sum\n",
    "print(k_sum)"
   ]
  },
  {
   "cell_type": "code",
   "execution_count": null,
   "id": "ee316be7",
   "metadata": {},
   "outputs": [],
   "source": [
    "###finding uniques in arrays\n",
    "## search algorithms\n",
    "### max and min values"
   ]
  },
  {
   "cell_type": "code",
   "execution_count": null,
   "id": "5c0a1b6b",
   "metadata": {},
   "outputs": [],
   "source": [
    "###Big 0 notations"
   ]
  },
  {
   "cell_type": "code",
   "execution_count": null,
   "id": "6188d889",
   "metadata": {},
   "outputs": [],
   "source": [
    "# arr1 = [\"jake\", \"kate\", \"leonard\"]\n",
    "# arr2 = [\"martin\", \"ben\", \"faith\"]\n",
    "\n",
    "# #####output\n",
    "# ja K e martiN\n",
    "# kaTe beN\n",
    "# leOnard faitH"
   ]
  }
 ],
 "metadata": {
  "kernelspec": {
   "display_name": "Python 3 (ipykernel)",
   "language": "python",
   "name": "python3"
  },
  "language_info": {
   "codemirror_mode": {
    "name": "ipython",
    "version": 3
   },
   "file_extension": ".py",
   "mimetype": "text/x-python",
   "name": "python",
   "nbconvert_exporter": "python",
   "pygments_lexer": "ipython3",
   "version": "3.9.7"
  }
 },
 "nbformat": 4,
 "nbformat_minor": 5
}
