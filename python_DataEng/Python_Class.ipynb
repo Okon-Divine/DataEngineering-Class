{
 "cells": [
  {
   "cell_type": "markdown",
   "id": "c6ab9548",
   "metadata": {},
   "source": [
    "1. phase one (Master automation process)\n",
    "data types\n",
    "variables\n",
    "conditionals\n",
    "strings and list methods\n",
    "indexing and slicing\n",
    "forloops and while loops\n",
    "dictionaries\n",
    "file handling\n",
    "functions\n",
    "classes and objects\n",
    "\n",
    "2. Phase two\n",
    "Python importation methods bonus: programming Habits\n",
    "python libraries (Datetime, pandas, numpy)\n",
    "webscrapping and ETL handling with python\n",
    "Api consumption (twitter api, reddit api, binance api, yahoo finance)\n",
    "\n",
    "\n",
    "\n",
    "3. phase three (Pipieline development)\n",
    "Data base integration with python (Postgresql, MongoDB)\n",
    "python Flask\n",
    "Api development (Fast api)\n",
    "Data Visualization (Tableau, looker or Power Bi)"
   ]
  },
  {
   "cell_type": "markdown",
   "id": "d64d2f55",
   "metadata": {},
   "source": [
    "-- leet_code\n",
    "-- Hacker rank\n",
    "-- coder byte"
   ]
  },
  {
   "cell_type": "markdown",
   "id": "f0120d67",
   "metadata": {},
   "source": [
    "#### Day One"
   ]
  },
  {
   "cell_type": "code",
   "execution_count": 11,
   "id": "301d775b",
   "metadata": {},
   "outputs": [
    {
     "name": "stdout",
     "output_type": "stream",
     "text": [
      "true\n"
     ]
    }
   ],
   "source": [
    "#strings, integers, floats, booleans\n",
    "print(\"true\")"
   ]
  },
  {
   "cell_type": "code",
   "execution_count": 15,
   "id": "0636e722",
   "metadata": {},
   "outputs": [
    {
     "name": "stdout",
     "output_type": "stream",
     "text": [
      "<class 'str'>\n"
     ]
    }
   ],
   "source": [
    "print(type(\"20\"))"
   ]
  },
  {
   "cell_type": "code",
   "execution_count": 16,
   "id": "4867c124",
   "metadata": {},
   "outputs": [
    {
     "name": "stdout",
     "output_type": "stream",
     "text": [
      "25\n"
     ]
    }
   ],
   "source": [
    "print(20+5)"
   ]
  },
  {
   "cell_type": "code",
   "execution_count": 23,
   "id": "c5de1b48",
   "metadata": {},
   "outputs": [
    {
     "name": "stdout",
     "output_type": "stream",
     "text": [
      "25.5\n"
     ]
    }
   ],
   "source": [
    "a = 20.5\n",
    "b = \"5\"\n",
    "print(a+float(b))"
   ]
  },
  {
   "cell_type": "code",
   "execution_count": 33,
   "id": "07bd5cb0",
   "metadata": {},
   "outputs": [
    {
     "name": "stdout",
     "output_type": "stream",
     "text": [
      "enter your name: temi\n",
      "your name is temi\n"
     ]
    }
   ],
   "source": [
    "x = input(\"enter your name: \")\n",
    "print(f\"your name is {x}\")"
   ]
  },
  {
   "cell_type": "code",
   "execution_count": 30,
   "id": "44c22efd",
   "metadata": {},
   "outputs": [
    {
     "name": "stdout",
     "output_type": "stream",
     "text": [
      "eneter name: ruke\n",
      "eneter year of birth: 1997\n",
      "ruke, was born in year 1997.0, and is currently 26.0 years old\n"
     ]
    }
   ],
   "source": [
    "name = input(\"eneter name: \")\n",
    "birth_year = float(input(\"eneter year of birth: \"))\n",
    "print(f\"{name}, was born in year {birth_year}, and is currently {2023-birth_year} years old\")"
   ]
  },
  {
   "cell_type": "code",
   "execution_count": null,
   "id": "c9ba6591",
   "metadata": {},
   "outputs": [],
   "source": [
    "###formular\n",
    "# F = c(9/5) + 32\n",
    "# c = f(5/9) - 32"
   ]
  },
  {
   "cell_type": "code",
   "execution_count": 43,
   "id": "85853a4f",
   "metadata": {},
   "outputs": [
    {
     "name": "stdout",
     "output_type": "stream",
     "text": [
      "enter temperatur value: 48.89\n",
      "enter unit (f/c): c\n",
      "120.002 degree fahrenheit\n"
     ]
    }
   ],
   "source": [
    "temp = float(input(\"enter temperatur value: \"))\n",
    "unit = input(\"enter unit (f/c): \").lower()\n",
    "\n",
    "if unit == \"f\":\n",
    "    celcuis_val = (5/9) * (temp - 32)\n",
    "    print(f\"{round(celcuis_val, 2)} degree celcuis\")\n",
    "    \n",
    "elif unit == \"c\":\n",
    "    fahr = (9/5*temp) + 32\n",
    "    print(f\"{round(fahr, 3)} degree fahrenheit\")\n",
    "    \n",
    "else:\n",
    "    print(\"unknown inputs\")"
   ]
  },
  {
   "cell_type": "code",
   "execution_count": 46,
   "id": "4577aa91",
   "metadata": {},
   "outputs": [],
   "source": [
    "##lower(), upper() ==> strings methods"
   ]
  },
  {
   "cell_type": "code",
   "execution_count": 64,
   "id": "5ed03d0b",
   "metadata": {},
   "outputs": [
    {
     "name": "stdout",
     "output_type": "stream",
     "text": [
      "apple\n",
      "ppl\n"
     ]
    }
   ],
   "source": [
    "##slicing and indexing for strings\n",
    "b = \"apple\"\n",
    "print(b)\n",
    "print(b[1:4])"
   ]
  },
  {
   "cell_type": "code",
   "execution_count": 62,
   "id": "a8d1507c",
   "metadata": {},
   "outputs": [
    {
     "data": {
      "text/plain": [
       "5"
      ]
     },
     "execution_count": 62,
     "metadata": {},
     "output_type": "execute_result"
    }
   ],
   "source": [
    "#count method for strings\n",
    "len(b)"
   ]
  },
  {
   "cell_type": "code",
   "execution_count": 56,
   "id": "039498ee",
   "metadata": {},
   "outputs": [
    {
     "name": "stdout",
     "output_type": "stream",
     "text": [
      "the index is 2, and the value is t\n"
     ]
    }
   ],
   "source": [
    "a = \"lothar\"\n",
    "index_val = a.index(\"t\")\n",
    "value_name = a[index_val]\n",
    "print(f\"the index is {index_val}, and the value is {value_name}\")"
   ]
  },
  {
   "cell_type": "code",
   "execution_count": 57,
   "id": "1312ca9d",
   "metadata": {},
   "outputs": [
    {
     "data": {
      "text/plain": [
       "'t'"
      ]
     },
     "execution_count": 57,
     "metadata": {},
     "output_type": "execute_result"
    }
   ],
   "source": [
    "a[2]"
   ]
  },
  {
   "cell_type": "code",
   "execution_count": 65,
   "id": "21d95294",
   "metadata": {},
   "outputs": [
    {
     "name": "stdout",
     "output_type": "stream",
     "text": [
      "apple\n"
     ]
    }
   ],
   "source": [
    "print(b)"
   ]
  },
  {
   "cell_type": "code",
   "execution_count": 69,
   "id": "8bf05eb9",
   "metadata": {},
   "outputs": [
    {
     "name": "stdout",
     "output_type": "stream",
     "text": [
      "apple\n"
     ]
    }
   ],
   "source": [
    "print(b)"
   ]
  },
  {
   "cell_type": "code",
   "execution_count": 91,
   "id": "ad927e52",
   "metadata": {},
   "outputs": [],
   "source": [
    "# k = (a, b , c, d)\n",
    "# summation k"
   ]
  },
  {
   "cell_type": "code",
   "execution_count": 86,
   "id": "9c06a9ca",
   "metadata": {},
   "outputs": [
    {
     "name": "stdout",
     "output_type": "stream",
     "text": [
      "1\n",
      "1\n",
      "1\n"
     ]
    }
   ],
   "source": [
    "b = \"applepy\"\n",
    "for i in b:\n",
    "    if i == \"p\":\n",
    "        print(b.index(i))"
   ]
  },
  {
   "cell_type": "code",
   "execution_count": 92,
   "id": "4a04b4c6",
   "metadata": {},
   "outputs": [
    {
     "name": "stdout",
     "output_type": "stream",
     "text": [
      "(0, 'a')\n",
      "(1, 'p')\n",
      "(2, 'p')\n",
      "(3, 'l')\n",
      "(4, 'e')\n",
      "(5, 'p')\n",
      "(6, 'y')\n"
     ]
    }
   ],
   "source": [
    "for i in enumerate(b):\n",
    "    print(i)"
   ]
  },
  {
   "cell_type": "code",
   "execution_count": 82,
   "id": "e8c9d88c",
   "metadata": {},
   "outputs": [
    {
     "name": "stdout",
     "output_type": "stream",
     "text": [
      "[4]\n"
     ]
    }
   ],
   "source": [
    "b = \"applepy\"\n",
    "list_arr = []\n",
    "for i in enumerate(b):\n",
    "    if i[1] == \"e\":\n",
    "        list_arr.append(i[0])\n",
    "print(list_arr)"
   ]
  },
  {
   "cell_type": "code",
   "execution_count": 90,
   "id": "fad88231",
   "metadata": {},
   "outputs": [
    {
     "name": "stdout",
     "output_type": "stream",
     "text": [
      "enter name: chidinma\n",
      "enter sex: f\n",
      "enter year of birth: 2001\n",
      "chidinma, was born in year 2001.0, and she is currently 22.0 years old\n"
     ]
    }
   ],
   "source": [
    "name = input(\"enter name: \")\n",
    "sex = input(\"enter sex: \").lower()\n",
    "birth_year = float(input(\"enter year of birth: \"))\n",
    "if sex == \"m\":\n",
    "    print(f\"{name}, was born in year {birth_year}, and he is currently {2023-birth_year} years old\")\n",
    "elif sex == \"f\":\n",
    "    print(f\"{name}, was born in year {birth_year}, and she is currently {2023-birth_year} years old\")\n",
    "else:\n",
    "    print(\"unknown input\")"
   ]
  },
  {
   "cell_type": "code",
   "execution_count": 103,
   "id": "81b90836",
   "metadata": {},
   "outputs": [
    {
     "name": "stdout",
     "output_type": "stream",
     "text": [
      "daisy\n"
     ]
    }
   ],
   "source": [
    "k = \"daisy\"\n",
    "print(k)"
   ]
  },
  {
   "cell_type": "code",
   "execution_count": 104,
   "id": "c47f063a",
   "metadata": {},
   "outputs": [
    {
     "name": "stdout",
     "output_type": "stream",
     "text": [
      "d-a-i-s-y\n"
     ]
    }
   ],
   "source": [
    "l = \"-\".join(k)\n",
    "print(l)"
   ]
  },
  {
   "cell_type": "code",
   "execution_count": 120,
   "id": "2fcb3e39",
   "metadata": {},
   "outputs": [
    {
     "name": "stdout",
     "output_type": "stream",
     "text": [
      "8-1-6-4-5-8-7-8-9-1\n"
     ]
    }
   ],
   "source": [
    "##string method\n",
    "phone_number = \"8164587891\"\n",
    "split_val = \"-\".join(phone_number)\n",
    "print(split_val)"
   ]
  },
  {
   "cell_type": "code",
   "execution_count": null,
   "id": "94935b6a",
   "metadata": {},
   "outputs": [],
   "source": [
    "# ft - meters\n",
    "\n",
    "# write a python program that can do"
   ]
  },
  {
   "cell_type": "code",
   "execution_count": null,
   "id": "dafb1d70",
   "metadata": {},
   "outputs": [],
   "source": []
  }
 ],
 "metadata": {
  "kernelspec": {
   "display_name": "Python 3 (ipykernel)",
   "language": "python",
   "name": "python3"
  },
  "language_info": {
   "codemirror_mode": {
    "name": "ipython",
    "version": 3
   },
   "file_extension": ".py",
   "mimetype": "text/x-python",
   "name": "python",
   "nbconvert_exporter": "python",
   "pygments_lexer": "ipython3",
   "version": "3.9.7"
  }
 },
 "nbformat": 4,
 "nbformat_minor": 5
}
